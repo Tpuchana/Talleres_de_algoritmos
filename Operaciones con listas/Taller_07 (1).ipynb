{
  "cells": [
    {
      "cell_type": "code",
      "execution_count": null,
      "metadata": {
        "colab": {
          "base_uri": "https://localhost:8080/"
        },
        "id": "sAj0u0Uto2i5",
        "outputId": "8a4d5627-78e5-4c3b-c9a5-5af9e32260a4"
      },
      "outputs": [
        {
          "output_type": "stream",
          "name": "stdout",
          "text": [
            "Cantidad de municipios 1122\n"
          ]
        }
      ],
      "source": [
        "# Preparación de los datos para los ejercicios\n",
        "import pandas as pd\n",
        "\n",
        "url = 'https://raw.githubusercontent.com/BrayanTorres2/POO_2022_C1/main/municipios.csv'\n",
        "df = pd.read_csv(url)\n",
        "municipios = []\n",
        "\n",
        "for (_, m) in df.iterrows():\n",
        "    mun = (m[0], m[1], m[2], m[3], m[4], False if m[5] == 0 else True)\n",
        "    municipios.append(mun)\n",
        "print('Cantidad de municipios', len(municipios))"
      ]
    },
    {
      "cell_type": "markdown",
      "metadata": {
        "id": "xGiqRO9PpY2H"
      },
      "source": [
        "<h1 align=\"center\">\n",
        "Taller 07 - Operaciones con Listas\n",
        "</h1>"
      ]
    },
    {
      "cell_type": "markdown",
      "metadata": {
        "id": "vOOIp3R-wJK2"
      },
      "source": [
        "## La información de los municipios\n",
        "\n",
        "Tenemos la información de todos los municipios de colombia en una lista de tuplas con la siguiente conformación:\n",
        "\n",
        "* El primer elemento es el código del municipio, un número\n",
        "* El segundo elemento es el nombre del municipio\n",
        "* El tercer elemento es la población urbana del municipio\n",
        "* El cuarto elemento es la población rural del municipio\n",
        "* El quinto elemento es el nombre del departamento donde esta el municipio\n",
        "* El sexto elemento es **True** si el municipio es la capital del departamento y **False** si no se trata de la capital del departamento."
      ]
    },
    {
      "cell_type": "markdown",
      "metadata": {
        "id": "MVX5wO8sw-Gh"
      },
      "source": [
        "---\n",
        "\n",
        "## Ejercicio 01\n",
        "\n",
        "Escriba una función que reciba la lista de municipios como dato de entrada, así como el nombre de un departamento y que retorne cuántos municipios de la lista pertenecen a ese departamento."
      ]
    },
    {
      "cell_type": "code",
      "execution_count": null,
      "metadata": {
        "colab": {
          "base_uri": "https://localhost:8080/"
        },
        "id": "PEmVsxmzuM38",
        "outputId": "a56f23a0-f926-4bdc-d0ab-86c91387152c"
      },
      "outputs": [
        {
          "output_type": "stream",
          "name": "stdout",
          "text": [
            "Prueba superada 😎\n"
          ]
        }
      ],
      "source": [
        "def ejercicio01(muns: [(int, str, int, int, str, bool)], nomdepto: str) -> int:\n",
        "    c = 0\n",
        "    for codi,nombre,pu,pr,departamentos,es in muns:\n",
        "        if(departamentos==nomdepto):\n",
        "            c=c+1\n",
        "\n",
        "    return c\n",
        "\n",
        "# ----------------------------------------------------------------------------\n",
        "# Pruebas\n",
        "assert ejercicio01(municipios, 'Amazonas') == 11\n",
        "assert ejercicio01(municipios, 'Boyacá') == 123\n",
        "print('Prueba superada 😎')"
      ]
    },
    {
      "cell_type": "markdown",
      "metadata": {
        "id": "5WNqTarK-J6r"
      },
      "source": [
        "## Ejercicio 02\n",
        "\n",
        "Dada una lista con los municipio de Colombia, retorne una lista con los nombres de los municipios que no tienen población urbana."
      ]
    },
    {
      "cell_type": "code",
      "execution_count": null,
      "metadata": {
        "colab": {
          "base_uri": "https://localhost:8080/"
        },
        "id": "n4lYS5hR_eAd",
        "outputId": "c2548930-f2c3-457d-f141-85bd503607a6"
      },
      "outputs": [
        {
          "output_type": "stream",
          "name": "stdout",
          "text": [
            "Prueba superada 👍\n"
          ]
        }
      ],
      "source": [
        "def ejercicio02(municipios: [(int, str, int, int, str, bool)]) -> [str]:\n",
        "    resultado = []\n",
        "    for codi,nombre,pu,pr,departamentos,es in municipios:\n",
        "        if pu==0:\n",
        "            resultado.append(nombre)\n",
        "\n",
        "\n",
        "    return resultado\n",
        "\n",
        "# Prueba del ejercicio 02\n",
        "noms = ejercicio02(municipios)\n",
        "noms.sort()\n",
        "assert noms == ['Barranco Minas', 'Cacahual', 'El Encanto', 'La Chorrera', 'La Guadalupe', 'La Pedrera', 'La Victoria', 'Mapiripana', 'Mirití-Paraná', 'Morichal Nuevo', 'Pacoa', 'Pana Pana', 'Papunaua', 'Puerto Alegría', 'Puerto Arica', 'Puerto Colombia', 'Puerto Santander', 'San Felipe', 'Tarapacá', 'Yavaraté']\n",
        "print(\"Prueba superada 👍\")"
      ]
    },
    {
      "cell_type": "markdown",
      "metadata": {
        "id": "Iop_-nwpAKHP"
      },
      "source": [
        "## Ejercicio 03\n",
        "\n",
        "Escriba una función en Python que reciba la lista con la información de todos los municipios de Colombia, y el nombre de un departamento, y que retorne la suma de la población urbana de todos los municipios de ese departamento, así como la cantidad de municipios que pertenecen a ese departamento también."
      ]
    },
    {
      "cell_type": "code",
      "execution_count": null,
      "metadata": {
        "colab": {
          "base_uri": "https://localhost:8080/"
        },
        "id": "SGmVOQATxz82",
        "outputId": "f0bbc1c6-9e74-41e0-ec3a-fc659c8962b5"
      },
      "outputs": [
        {
          "output_type": "stream",
          "name": "stdout",
          "text": [
            "Prueba superada 👍\n"
          ]
        }
      ],
      "source": [
        "def ejercicio03(municipios: [(int, str, int, int, str, bool)], dpto: str) -> (int, int):\n",
        "    suma = 0\n",
        "    cont = 0\n",
        "    for codi,nombre,pu,pr,departamentos,es in municipios:\n",
        "        if dpto==departamentos:\n",
        "          suma=suma+pu\n",
        "          cont=cont+1\n",
        "        \n",
        "            \n",
        "      \n",
        "\n",
        "    return (suma, cont)\n",
        "\n",
        "# Prueba de la función 03\n",
        "assert ejercicio03(municipios, \"La Guajira\") == (552_638, 15)\n",
        "assert ejercicio03(municipios, \"Huila\") == (703_936, 37)\n",
        "assert ejercicio03(municipios, \"Atlántico\") == (2_408_093, 23)\n",
        "assert ejercicio03(municipios, \"Antioquia\") == (5_181_668, 125)\n",
        "print(\"Prueba superada 👍\")\n",
        "+"
      ]
    },
    {
      "cell_type": "markdown",
      "metadata": {
        "id": "qw57ZixBCtmg"
      },
      "source": [
        "## Ejercicio 04\n",
        "\n",
        "Escriba una función que reciba la lista con la información de todos los municipios del país y el código de un municipio y que retorne el nombre y el departamento del municipio que tiene ese código. Si no existe ese código, deberá retornar el mensaje \"no existe\"."
      ]
    },
    {
      "cell_type": "code",
      "execution_count": 1,
      "metadata": {
        "colab": {
          "base_uri": "https://localhost:8080/",
          "height": 235
        },
        "id": "KQlwWG7LBgQs",
        "outputId": "64e1de5e-24b1-4b13-d815-f82eb3444b3b"
      },
      "outputs": [
        {
          "output_type": "error",
          "ename": "NameError",
          "evalue": "ignored",
          "traceback": [
            "\u001b[0;31m---------------------------------------------------------------------------\u001b[0m",
            "\u001b[0;31mNameError\u001b[0m                                 Traceback (most recent call last)",
            "\u001b[0;32m<ipython-input-1-f741e80c38cf>\u001b[0m in \u001b[0;36m<module>\u001b[0;34m\u001b[0m\n\u001b[1;32m      8\u001b[0m \u001b[0;34m\u001b[0m\u001b[0m\n\u001b[1;32m      9\u001b[0m \u001b[0;31m# Prueba de la función ejercicio 04\u001b[0m\u001b[0;34m\u001b[0m\u001b[0;34m\u001b[0m\u001b[0;34m\u001b[0m\u001b[0m\n\u001b[0;32m---> 10\u001b[0;31m \u001b[0;32massert\u001b[0m \u001b[0;34m(\u001b[0m\u001b[0mejercicio04\u001b[0m\u001b[0;34m(\u001b[0m\u001b[0mmunicipios\u001b[0m\u001b[0;34m,\u001b[0m \u001b[0;36m438\u001b[0m\u001b[0;34m)\u001b[0m\u001b[0;34m)\u001b[0m \u001b[0;34m==\u001b[0m \u001b[0;34m(\u001b[0m\u001b[0;34m'Caloto'\u001b[0m\u001b[0;34m,\u001b[0m \u001b[0;34m'Cauca'\u001b[0m\u001b[0;34m)\u001b[0m\u001b[0;34m\u001b[0m\u001b[0;34m\u001b[0m\u001b[0m\n\u001b[0m\u001b[1;32m     11\u001b[0m \u001b[0;32massert\u001b[0m \u001b[0;34m(\u001b[0m\u001b[0mejercicio04\u001b[0m\u001b[0;34m(\u001b[0m\u001b[0mmunicipios\u001b[0m\u001b[0;34m,\u001b[0m \u001b[0;36m7\u001b[0m\u001b[0;34m)\u001b[0m\u001b[0;34m)\u001b[0m \u001b[0;34m==\u001b[0m \u001b[0;34m(\u001b[0m\u001b[0;34m'Soledad'\u001b[0m\u001b[0;34m,\u001b[0m \u001b[0;34m'Atlántico'\u001b[0m\u001b[0;34m)\u001b[0m\u001b[0;34m\u001b[0m\u001b[0;34m\u001b[0m\u001b[0m\n\u001b[1;32m     12\u001b[0m \u001b[0;32massert\u001b[0m \u001b[0;34m(\u001b[0m\u001b[0mejercicio04\u001b[0m\u001b[0;34m(\u001b[0m\u001b[0mmunicipios\u001b[0m\u001b[0;34m,\u001b[0m \u001b[0;36m1024\u001b[0m\u001b[0;34m)\u001b[0m\u001b[0;34m)\u001b[0m \u001b[0;34m==\u001b[0m \u001b[0;34m(\u001b[0m\u001b[0;34m'Alejandría'\u001b[0m\u001b[0;34m,\u001b[0m \u001b[0;34m'Antioquia'\u001b[0m\u001b[0;34m)\u001b[0m\u001b[0;34m\u001b[0m\u001b[0;34m\u001b[0m\u001b[0m\n",
            "\u001b[0;31mNameError\u001b[0m: name 'municipios' is not defined"
          ]
        }
      ],
      "source": [
        "def ejercicio04(municipios: [(int, str, int, int, str, bool)], codigo: int) -> (str, str):\n",
        "\n",
        "  for codi,nombre,pu,pr,departamentos,es in municipios:\n",
        "    if codigo==codi:\n",
        "      return (nombre, departamentos)\n",
        "    elif codigo>1122:\n",
        "      return \"no existe\"\n",
        "\n",
        "# Prueba de la función ejercicio 04\n",
        "assert (ejercicio04(municipios, 438)) == ('Caloto', 'Cauca')\n",
        "assert (ejercicio04(municipios, 7)) == ('Soledad', 'Atlántico')\n",
        "assert (ejercicio04(municipios, 1024)) == ('Alejandría', 'Antioquia')\n",
        "assert (ejercicio04(municipios, 819)) == ('Barichara', 'Santander')\n",
        "assert (ejercicio04(municipios, 1819)) == 'no existe'\n",
        "print(\"Prueba superada 👍\")"
      ]
    },
    {
      "cell_type": "markdown",
      "metadata": {
        "id": "k-SLqWpdF1ie"
      },
      "source": [
        "## Ejercicio 05\n",
        "\n",
        "Escriba una función en Python que reciba una lista con la información de todos los municipios de Colombia y que halle el porcentaje de municipios de la lista que son capitales y cuya población urbana supera el millón de habitantes."
      ]
    },
    {
      "cell_type": "code",
      "execution_count": null,
      "metadata": {
        "colab": {
          "base_uri": "https://localhost:8080/"
        },
        "id": "5__V2S7ZE_vl",
        "outputId": "8126d31a-36dc-46c5-d2b7-7abc208a6622"
      },
      "outputs": [
        {
          "name": "stdout",
          "output_type": "stream",
          "text": [
            "Prueba superada 👍\n"
          ]
        }
      ],
      "source": [
        "import math\n",
        "\n",
        "def ejercicio05(municipios: [(int, str, int, int, str, bool)]) -> float:\n",
        "    pass\n",
        "\n",
        "# Prueba de la función del ejercicio 5\n",
        "assert math.isclose(ejercicio05(municipios), 0.3565, rel_tol=1e-4)\n",
        "print(\"Prueba superada 👍\")"
      ]
    },
    {
      "cell_type": "markdown",
      "metadata": {
        "id": "3PWcaddGM61l"
      },
      "source": [
        "## Ejercicio 06\n",
        "\n",
        "Escriba una función que reciba la lista con la información de todos los municipios de Colombia y el nombre de un departamento, y que retorne el nombre del municipio de ese departamento que tiene la población urbana más pequeña."
      ]
    },
    {
      "cell_type": "code",
      "execution_count": null,
      "metadata": {
        "colab": {
          "base_uri": "https://localhost:8080/"
        },
        "id": "8qAQ2SVlL-Rl",
        "outputId": "168469f5-50fc-431a-9ca4-a5099816e6d1"
      },
      "outputs": [
        {
          "name": "stdout",
          "output_type": "stream",
          "text": [
            "Prueba superada 👍\n"
          ]
        }
      ],
      "source": [
        "def ejercicio06(municipios: [(int, str, int, int, str, bool)], dpto: str) -> str:\n",
        "    pass\n",
        "\n",
        "# Prueba de la función del ejercicio 06\n",
        "assert (ejercicio06(municipios, 'Santander'))  == 'Jordán'\n",
        "assert (ejercicio06(municipios, 'Boyacá')) == 'Chíquiza'\n",
        "assert (ejercicio06(municipios, 'Magdalena')) == 'San Zenón'\n",
        "assert (ejercicio06(municipios, 'Cundinamarca')) == 'Fúquene'\n",
        "print(\"Prueba superada 👍\")"
      ]
    },
    {
      "cell_type": "markdown",
      "metadata": {
        "id": "-7qiTQ1NPclk"
      },
      "source": [
        "## Ejercicio 07\n",
        "\n",
        "Escriba una función en Python que reciba una lista con la información de todos los municipios de Colombia y dos códigos, y que retorne la suma de la población rural de aquellos municipios cuyo código sea mayor o igual que el primer código y menor o igual que el segundo código."
      ]
    },
    {
      "cell_type": "code",
      "execution_count": null,
      "metadata": {
        "colab": {
          "base_uri": "https://localhost:8080/"
        },
        "id": "lr2UwOmvOBiT",
        "outputId": "677f7c73-f4dd-4e16-c167-9cfbb81674c2"
      },
      "outputs": [
        {
          "name": "stdout",
          "output_type": "stream",
          "text": [
            "Prueba superada 👍\n"
          ]
        }
      ],
      "source": [
        "def ejercicio07(municipios: [(int, str, int, int, str, bool)], cod1: int, cod2: int) -> int:\n",
        "    suma = 0\n",
        "    return suma\n",
        "\n",
        "# Prueba de la función del ejercicio 07\n",
        "assert (ejercicio07(municipios, 850, 960)) == 416_362\n",
        "assert (ejercicio07(municipios, 1, 10)) == 193_550\n",
        "assert (ejercicio07(municipios, 300, 400)) == 1_217_094\n",
        "print(\"Prueba superada 👍\")"
      ]
    }
  ],
  "metadata": {
    "colab": {
      "collapsed_sections": [],
      "provenance": []
    },
    "kernelspec": {
      "display_name": "Python 3.10.7 64-bit (microsoft store)",
      "language": "python",
      "name": "python3"
    },
    "language_info": {
      "codemirror_mode": {
        "name": "ipython",
        "version": 3
      },
      "file_extension": ".py",
      "mimetype": "text/x-python",
      "name": "python",
      "nbconvert_exporter": "python",
      "pygments_lexer": "ipython3",
      "version": "3.10.7"
    },
    "vscode": {
      "interpreter": {
        "hash": "7b1f2b33e866b0bf2409397e5f58ba9cdf170d3b7f64c8f359c79998e2f88ad4"
      }
    }
  },
  "nbformat": 4,
  "nbformat_minor": 0
}